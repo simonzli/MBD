{
  "nbformat": 4,
  "nbformat_minor": 0,
  "metadata": {
    "colab": {
      "name": "Happy fun binary-decimal conversion",
      "provenance": [],
      "authorship_tag": "ABX9TyOPiMlUDPhl9FWAZKuy9RCh"
    },
    "kernelspec": {
      "name": "python3",
      "display_name": "Python 3"
    }
  },
  "cells": [
    {
      "cell_type": "code",
      "metadata": {
        "id": "Pe9HUW0NF2LD",
        "colab_type": "code",
        "colab": {
          "base_uri": "https://localhost:8080/",
          "height": 68
        },
        "outputId": "b896ffd5-d64f-4f2c-ec80-e5cf9ef251cf"
      },
      "source": [
        "print('Give me a decimal number: ')\n",
        "decNum = int(input())\n",
        "\n",
        "i = 0\n",
        "\n",
        "binNum = ''\n",
        "\n",
        "while decNum >= 2**i:\n",
        "\tnewDivisor = int(decNum/2**i)\n",
        "\tnewBinDig = newDivisor%2\n",
        "\tbinNum = str(newBinDig) + binNum\n",
        "\ti = i + 1\n",
        "\n",
        "print(binNum)"
      ],
      "execution_count": 32,
      "outputs": [
        {
          "output_type": "stream",
          "text": [
            "Give me a decimal number: \n",
            "9\n",
            "1001\n"
          ],
          "name": "stdout"
        }
      ]
    },
    {
      "cell_type": "code",
      "metadata": {
        "id": "y7IKdDeYHaK7",
        "colab_type": "code",
        "colab": {
          "base_uri": "https://localhost:8080/",
          "height": 68
        },
        "outputId": "b9036a48-230f-43c3-d5ff-c9bd2e3b239b"
      },
      "source": [
        "print('Give me a binary number: ')\n",
        "binNum = input()\n",
        "\n",
        "binNum = str(binNum)\n",
        "\n",
        "decNum = 0\n",
        "\n",
        "i = 0\n",
        "\n",
        "while i < len(binNum):\n",
        "\texponent = len(binNum) - 1 - i\n",
        "\tmultiplier = int(binNum[i])\n",
        "\tdecNum = decNum + multiplier * (2**exponent)\n",
        "\ti = i + 1\n",
        "\n",
        "print(decNum)"
      ],
      "execution_count": 33,
      "outputs": [
        {
          "output_type": "stream",
          "text": [
            "Give me a binary number: \n",
            "1001\n",
            "9\n"
          ],
          "name": "stdout"
        }
      ]
    },
    {
      "cell_type": "code",
      "metadata": {
        "id": "o0gly6zaHsZ6",
        "colab_type": "code",
        "colab": {}
      },
      "source": [
        ""
      ],
      "execution_count": null,
      "outputs": []
    }
  ]
}