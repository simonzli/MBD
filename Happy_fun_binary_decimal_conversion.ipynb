{
  "nbformat": 4,
  "nbformat_minor": 0,
  "metadata": {
    "colab": {
      "name": "Happy fun binary-decimal conversion",
      "provenance": [],
      "authorship_tag": "ABX9TyNfvmke0k5y9jB+EoqepT7g",
      "include_colab_link": true
    },
    "kernelspec": {
      "name": "python3",
      "display_name": "Python 3"
    }
  },
  "cells": [
    {
      "cell_type": "markdown",
      "metadata": {
        "id": "view-in-github",
        "colab_type": "text"
      },
      "source": [
        "<a href=\"https://colab.research.google.com/github/simonzli/MBD/blob/master/Happy_fun_binary_decimal_conversion.ipynb\" target=\"_parent\"><img src=\"https://colab.research.google.com/assets/colab-badge.svg\" alt=\"Open In Colab\"/></a>"
      ]
    },
    {
      "cell_type": "markdown",
      "metadata": {
        "id": "1gE77Aip8vz5",
        "colab_type": "text"
      },
      "source": [
        "The following functions are created according to the slides"
      ]
    },
    {
      "cell_type": "code",
      "metadata": {
        "id": "lYTFExzZ8Vxn",
        "colab_type": "code",
        "colab": {}
      },
      "source": [
        "def decimal_to_binary(decimalStr):\n",
        "  decimal = int(decimalStr)\n",
        "  binaryStr = \"\"\n",
        "  while decimal != 0:\n",
        "    binaryStr = str(decimal % 2) + binaryStr\n",
        "    decimal //= 2\n",
        "  if len(binaryStr) == 0:\n",
        "    binaryStr = \"0\"\n",
        "  print(\"The binary form of the decimal number \\\"\" + decimalStr + \"\\\" is: \" + binaryStr)"
      ],
      "execution_count": 1,
      "outputs": []
    },
    {
      "cell_type": "code",
      "metadata": {
        "id": "TxYggYDd8Wkn",
        "colab_type": "code",
        "colab": {
          "base_uri": "https://localhost:8080/",
          "height": 34
        },
        "outputId": "4ddce124-daf9-4407-ba76-19a753b66a95"
      },
      "source": [
        "decimal_to_binary(\"11\")"
      ],
      "execution_count": 2,
      "outputs": [
        {
          "output_type": "stream",
          "text": [
            "The binary form of the decimal number \"11\" is: 1011\n"
          ],
          "name": "stdout"
        }
      ]
    },
    {
      "cell_type": "code",
      "metadata": {
        "id": "NmIHi8SX8XyH",
        "colab_type": "code",
        "colab": {}
      },
      "source": [
        "def binary_to_decimal(binaryStr):\n",
        "  decimal = 0\n",
        "  for i in range(len(binaryStr)):\n",
        "    decimal *= 2\n",
        "    if binaryStr[i] == '1':\n",
        "      decimal += 1\n",
        "  print(\"The decimal form of the binary number \\\"\" + binaryStr + \"\\\" is: \" + str(decimal))"
      ],
      "execution_count": 3,
      "outputs": []
    },
    {
      "cell_type": "code",
      "metadata": {
        "id": "YwX496Af8ZdD",
        "colab_type": "code",
        "colab": {
          "base_uri": "https://localhost:8080/",
          "height": 34
        },
        "outputId": "3a716a18-0f72-48f1-e5cb-fc7d083f719c"
      },
      "source": [
        "binary_to_decimal(\"110\")"
      ],
      "execution_count": 4,
      "outputs": [
        {
          "output_type": "stream",
          "text": [
            "The decimal form of the binary number \"110\" is: 6\n"
          ],
          "name": "stdout"
        }
      ]
    },
    {
      "cell_type": "code",
      "metadata": {
        "id": "MIoazCh19D0c",
        "colab_type": "code",
        "colab": {}
      },
      "source": [
        ""
      ],
      "execution_count": 4,
      "outputs": []
    }
  ]
}